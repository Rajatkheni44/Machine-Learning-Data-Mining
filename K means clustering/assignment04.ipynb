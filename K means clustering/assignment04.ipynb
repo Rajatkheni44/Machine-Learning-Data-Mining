{
 "cells": [
  {
   "cell_type": "markdown",
   "metadata": {},
   "source": [
    "# Assignment 04"
   ]
  },
  {
   "cell_type": "markdown",
   "metadata": {},
   "source": [
    "# Subject : Machine learing and data Mining"
   ]
  },
  {
   "cell_type": "code",
   "execution_count": 2,
   "metadata": {},
   "outputs": [],
   "source": [
    "# Add group name, group member names, and their matriculation numbers"
   ]
  },
  {
   "cell_type": "markdown",
   "metadata": {},
   "source": [
    "Group Name : guttag"
   ]
  },
  {
   "cell_type": "raw",
   "metadata": {},
   "source": [
    "Submitted by \n",
    "Rajat Kheni :     (220202938) \n",
    "Hiren Mangukiya : (220202855) \n",
    "Ashish Asodariya :(220200884) \n",
    "Gautam Maniya :   (220202739)\n",
    "\n",
    "Institute for Web Science and Technologies Department of Computer Science University of Koblenz-Landau"
   ]
  },
  {
   "cell_type": "code",
   "execution_count": 3,
   "metadata": {},
   "outputs": [],
   "source": [
    "# Load modules\n",
    "import csv\n",
    "import numpy as np\n",
    "import pandas as pd\n",
    "import matplotlib.pyplot as plt"
   ]
  },
  {
   "cell_type": "markdown",
   "metadata": {},
   "source": [
    "## Data Import"
   ]
  },
  {
   "cell_type": "code",
   "execution_count": 4,
   "metadata": {
    "scrolled": false
   },
   "outputs": [],
   "source": [
    "# Load data from CSV file\n",
    "df = pd.DataFrame()\n",
    "df = pd.read_csv('data.csv', dtype={'Radius (cm)': float, 'Weight (grams)': float})\n",
    "\n",
    "# Replace zero values with median value within class \n",
    "df = df.groupby(['Fruit (class)']) # sort by class\n",
    "proc_df = pd.DataFrame() # create a new dataframe to collect results\n",
    "for key, group in df: # go over groups\n",
    "    group = group.replace(0, group.median(axis=0)) # replace missing values with median\n",
    "    proc_df = pd.concat([proc_df, group]) # concatenate groups into new dataframe\n",
    "df = proc_df.sort_index() # overwrite original dataframe with results\n",
    "\n",
    "# Normalize\n",
    "radius = df['Radius (cm)']\n",
    "df['Radius (cm)'] = (radius-radius.min())/(radius.max()-radius.min())\n",
    "radius = df['Weight (grams)']\n",
    "df['Weight (grams)'] = (radius-radius.min())/(radius.max()-radius.min())"
   ]
  },
  {
   "cell_type": "code",
   "execution_count": 5,
   "metadata": {},
   "outputs": [
    {
     "name": "stdout",
     "output_type": "stream",
     "text": [
      "[0.06451612903225798, 0.6451612903225805, 0.48387096774193544, 0.16129032258064516, 0.0, 0.1290322580645161, 0.3225806451612903, 1.0, 0.1290322580645161, 0.3548387096774194, 0.5161290322580645, 0.09677419354838704, 0.8064516129032256, 0.7096774193548386, 0.6451612903225805, 0.2580645161290322, 0.7741935483870968, 0.06451612903225798, 0.5161290322580645, 0.6451612903225805, 0.09677419354838704, 0.0, 0.19354838709677422, 0.4193548387096773, 0.6774193548387097, 0.29032258064516125, 0.3548387096774194, 0.1290322580645161, 0.0, 0.3225806451612903, 0.7096774193548386, 0.9354838709677419]\n"
     ]
    }
   ],
   "source": [
    "# Radius values\n",
    "radius = list(df['Radius (cm)'])\n",
    "print(radius)"
   ]
  },
  {
   "cell_type": "code",
   "execution_count": 6,
   "metadata": {},
   "outputs": [
    {
     "name": "stdout",
     "output_type": "stream",
     "text": [
      "[0.15037593984962405, 0.2631578947368421, 1.0, 0.13533834586466165, 0.0, 0.3458646616541353, 0.21804511278195488, 0.7593984962406015, 0.22556390977443608, 0.2932330827067669, 0.45864661654135336, 0.21052631578947367, 0.8421052631578947, 0.6992481203007519, 0.15037593984962405, 0.09774436090225563, 0.5263157894736842, 0.15037593984962405, 0.45864661654135336, 0.7142857142857143, 0.20300751879699247, 0.18045112781954886, 0.24812030075187969, 0.3007518796992481, 0.6466165413533834, 0.43609022556390975, 0.18045112781954886, 0.18796992481203006, 0.0, 0.3383458646616541, 0.7293233082706767, 0.7669172932330827]\n"
     ]
    }
   ],
   "source": [
    "# Weight values\n",
    "weight = list(df['Weight (grams)'])\n",
    "print(weight)"
   ]
  },
  {
   "cell_type": "code",
   "execution_count": 7,
   "metadata": {},
   "outputs": [
    {
     "name": "stdout",
     "output_type": "stream",
     "text": [
      "['Lemon', 'Apple', 'Pear', 'Lemon', 'Lemon', 'Apple', 'Lemon', 'Pear', 'Apple', 'Apple', 'Apple', 'Lemon', 'Pear', 'Pear', 'Lemon', 'Lemon', 'Pear', 'Lemon', 'Apple', 'Pear', 'Lemon', 'Apple', 'Apple', 'Apple', 'Pear', 'Apple', 'Lemon', 'Lemon', 'Lemon', 'Apple', 'Pear', 'Pear']\n"
     ]
    }
   ],
   "source": [
    "# Classes\n",
    "classes = list(df['Fruit (class)'])\n",
    "print(classes)"
   ]
  },
  {
   "cell_type": "code",
   "execution_count": 8,
   "metadata": {},
   "outputs": [
    {
     "name": "stdout",
     "output_type": "stream",
     "text": [
      "[(0.06451612903225798, 0.15037593984962405, 'Lemon'), (0.6451612903225805, 0.2631578947368421, 'Apple'), (0.48387096774193544, 1.0, 'Pear'), (0.16129032258064516, 0.13533834586466165, 'Lemon'), (0.0, 0.0, 'Lemon'), (0.1290322580645161, 0.3458646616541353, 'Apple'), (0.3225806451612903, 0.21804511278195488, 'Lemon'), (1.0, 0.7593984962406015, 'Pear'), (0.1290322580645161, 0.22556390977443608, 'Apple'), (0.3548387096774194, 0.2932330827067669, 'Apple'), (0.5161290322580645, 0.45864661654135336, 'Apple'), (0.09677419354838704, 0.21052631578947367, 'Lemon'), (0.8064516129032256, 0.8421052631578947, 'Pear'), (0.7096774193548386, 0.6992481203007519, 'Pear'), (0.6451612903225805, 0.15037593984962405, 'Lemon'), (0.2580645161290322, 0.09774436090225563, 'Lemon'), (0.7741935483870968, 0.5263157894736842, 'Pear'), (0.06451612903225798, 0.15037593984962405, 'Lemon'), (0.5161290322580645, 0.45864661654135336, 'Apple'), (0.6451612903225805, 0.7142857142857143, 'Pear'), (0.09677419354838704, 0.20300751879699247, 'Lemon'), (0.0, 0.18045112781954886, 'Apple'), (0.19354838709677422, 0.24812030075187969, 'Apple'), (0.4193548387096773, 0.3007518796992481, 'Apple'), (0.6774193548387097, 0.6466165413533834, 'Pear'), (0.29032258064516125, 0.43609022556390975, 'Apple'), (0.3548387096774194, 0.18045112781954886, 'Lemon'), (0.1290322580645161, 0.18796992481203006, 'Lemon'), (0.0, 0.0, 'Lemon'), (0.3225806451612903, 0.3383458646616541, 'Apple'), (0.7096774193548386, 0.7293233082706767, 'Pear'), (0.9354838709677419, 0.7669172932330827, 'Pear')]\n"
     ]
    }
   ],
   "source": [
    "# Combine radius, weight, and class to tuples (we have to keep the class for later plotting)\n",
    "tuples = list(zip(radius, weight, classes))\n",
    "print(tuples)"
   ]
  },
  {
   "cell_type": "markdown",
   "metadata": {},
   "source": [
    "## Clustering"
   ]
  },
  {
   "cell_type": "code",
   "execution_count": 10,
   "metadata": {},
   "outputs": [
    {
     "name": "stdout",
     "output_type": "stream",
     "text": [
      "[[(0.06451612903225798, 0.15037593984962405, 'Lemon'), (0.16129032258064516, 0.13533834586466165, 'Lemon'), (0.0, 0.0, 'Lemon'), (0.1290322580645161, 0.3458646616541353, 'Apple'), (0.3225806451612903, 0.21804511278195488, 'Lemon'), (0.1290322580645161, 0.22556390977443608, 'Apple'), (0.3548387096774194, 0.2932330827067669, 'Apple'), (0.5161290322580645, 0.45864661654135336, 'Apple'), (0.09677419354838704, 0.21052631578947367, 'Lemon'), (0.6451612903225805, 0.15037593984962405, 'Lemon'), (0.2580645161290322, 0.09774436090225563, 'Lemon'), (0.06451612903225798, 0.15037593984962405, 'Lemon'), (0.5161290322580645, 0.45864661654135336, 'Apple'), (0.09677419354838704, 0.20300751879699247, 'Lemon'), (0.0, 0.18045112781954886, 'Apple'), (0.19354838709677422, 0.24812030075187969, 'Apple'), (0.4193548387096773, 0.3007518796992481, 'Apple'), (0.29032258064516125, 0.43609022556390975, 'Apple'), (0.3548387096774194, 0.18045112781954886, 'Lemon'), (0.1290322580645161, 0.18796992481203006, 'Lemon'), (0.0, 0.0, 'Lemon'), (0.3225806451612903, 0.3383458646616541, 'Apple')], [(0.6451612903225805, 0.2631578947368421, 'Apple'), (0.7096774193548386, 0.6992481203007519, 'Pear'), (0.7741935483870968, 0.5263157894736842, 'Pear'), (0.6451612903225805, 0.7142857142857143, 'Pear'), (0.6774193548387097, 0.6466165413533834, 'Pear'), (0.7096774193548386, 0.7293233082706767, 'Pear'), (0.9354838709677419, 0.7669172932330827, 'Pear')], [(0.48387096774193544, 1.0, 'Pear'), (1.0, 0.7593984962406015, 'Pear'), (0.8064516129032256, 0.8421052631578947, 'Pear')]]\n"
     ]
    }
   ],
   "source": [
    "# Squared Euclidean distance (use this as delta function)\n",
    "def distance(p1,p2):\n",
    "    dist = (p2[0]-p1[0])**2+(p2[1]-p1[1])**2\n",
    "    return dist\n",
    "\n",
    "# Takes points as list of tuples and a threshold.\n",
    "# Example call: do_cluster([(2,1,'Apple'),(6,3,'Lemon'),(1,1.5,'Apple'),(2,2,'Pear')], 7)\n",
    "def do_cluster(tuples, threshold):\n",
    "    \n",
    "    clusters = [] \n",
    "    \n",
    "    ###############################################\n",
    "    # IMPLEMENT SINGLE PASS CLUSTERING HERE       #\n",
    "    ###############################################\n",
    "    \n",
    "    # TODO\n",
    "    \n",
    "#     Initialize empty set 𝑍 of corresponding cluster centroids\n",
    "    centroids = []\n",
    "#     For each object 𝑜 ∈ 𝑂, do:\n",
    "    for o in tuples:\n",
    "\n",
    "        flag = False\n",
    "#         For each cluster 𝜔𝑖 ∈ Ω, do:\n",
    "        for idx, w in enumerate(clusters):\n",
    "          \n",
    "            dist = distance(o, centroids[idx])\n",
    "            if dist <= threshold:\n",
    "\n",
    "                x = (centroids[idx][0]*len(clusters[idx])+o[0])/(len(clusters[idx])+1)\n",
    "                y = (centroids[idx][1]*len(clusters[idx])+o[1])/(len(clusters[idx])+1)\n",
    "                clusters[idx].append(o)\n",
    "#                 Update centroid with 𝑧𝑖 =1/|𝜔𝑖|⋅ 𝑜 + |𝜔𝑖|−1/|𝜔𝑖|⋅ 𝑧�\n",
    "                centroids[idx] = (x,y)\n",
    "                flag = True\n",
    "                break\n",
    "        if not flag:\n",
    "            \n",
    "#             Put 𝑜 into 𝜔�\n",
    "            clusters.append([o])\n",
    "            centroids.append(o)\n",
    "       \n",
    "    ###############################################\n",
    "    # END OF TASK                                 #\n",
    "    ###############################################\n",
    "    \n",
    "    return clusters # e.g., [[(2, 1, 'Apple'), (1, 1.5, 'Apple'), (2, 2, 'Pear')], [(6, 3, 'Lemon')]]\n",
    "\n",
    "# Call to cluster\n",
    "clusters = do_cluster(tuples, 0.33) # distance threshold, aka Delta, is set to 0.33\n",
    "print(clusters)\n",
    "\n",
    "# Hint: Final clusters should look like the following:\n",
    "# [[(0.06451612903225798, 0.15037593984962405, 'Lemon'), (0.16129032258064516, 0.13533834586466165, 'Lemon'), ..."
   ]
  },
  {
   "cell_type": "markdown",
   "metadata": {},
   "source": [
    "## Plotting"
   ]
  },
  {
   "cell_type": "code",
   "execution_count": 11,
   "metadata": {
    "scrolled": true
   },
   "outputs": [
    {
     "data": {
      "image/png": "[encoded data removed]",
      "text/plain": [
       "<Figure size 432x288 with 1 Axes>"
      ]
     },
     "metadata": {
      "needs_background": "light"
     },
     "output_type": "display_data"
    }
   ],
   "source": [
    "colors = ['red', 'green', 'blue', 'yellow', 'purple', 'orange'] # provide some colors for the clusters\n",
    "marker = {'Lemon': '*', 'Apple': 'o', 'Pear': 'x'} # different marker for each class\n",
    "i = 0\n",
    "for c in clusters:\n",
    "    tpls = list(zip(*c))\n",
    "    x = tpls[0]\n",
    "    y = tpls[1]\n",
    "    cls = tpls[2]\n",
    "    c = colors[i%len(colors)]\n",
    "    m = [marker[cl] for cl in cls]\n",
    "    for _x, _y, _m in zip(x, y, m):\n",
    "        plt.scatter(_x, _y, c=c, marker=_m)\n",
    "    i += 1\n",
    "plt.xlabel(\"Radius\")\n",
    "plt.ylabel(\"Weight\")\n",
    "plt.show()"
   ]
  },
  {
   "cell_type": "code",
   "execution_count": null,
   "metadata": {},
   "outputs": [],
   "source": []
  }
 ],
 "metadata": {
  "kernelspec": {
   "display_name": "Python 3 (ipykernel)",
   "language": "python",
   "name": "python3"
  },
  "language_info": {
   "codemirror_mode": {
    "name": "ipython",
    "version": 3
   },
   "file_extension": ".py",
   "mimetype": "text/x-python",
   "name": "python",
   "nbconvert_exporter": "python",
   "pygments_lexer": "ipython3",
   "version": "3.7.9"
  }
 },
 "nbformat": 4,
 "nbformat_minor": 2
}
