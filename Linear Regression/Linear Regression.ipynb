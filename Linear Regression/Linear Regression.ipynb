{
 "cells": [
  {
   "cell_type": "code",
   "execution_count": 13,
   "metadata": {
    "id": "B6ETnHVs3UWf"
   },
   "outputs": [],
   "source": [
    "import numpy as np"
   ]
  },
  {
   "cell_type": "code",
   "execution_count": 14,
   "metadata": {
    "colab": {
     "base_uri": "https://localhost:8080/"
    },
    "id": "8uvzFaMt3UWp",
    "outputId": "b924aa6c-825a-4cff-abc3-d96375f88828"
   },
   "outputs": [
    {
     "name": "stdout",
     "output_type": "stream",
     "text": [
      "[[     0      1]\n",
      " [ 35424      1]\n",
      " [ 73440      1]\n",
      " [109728      1]\n",
      " [136512      1]\n",
      " [176256      1]]\n",
      "[ 87345 244555 213087 222042 326125 434130]\n"
     ]
    }
   ],
   "source": [
    "#Define Independent and dependent variables. Where X is the independent variable and Y is a dependent variable\n",
    "X=np.array([[0,1],[35424,1], [73440,1], [109728,1], [136512,1] ,[176256,1]])\n",
    "Y=np.array([87345,244555,213087,222042,326125,434130])\n",
    "\n",
    "print(X)\n",
    "print(Y)"
   ]
  },
  {
   "cell_type": "code",
   "execution_count": 15,
   "metadata": {},
   "outputs": [
    {
     "name": "stdout",
     "output_type": "stream",
     "text": [
      "[[     0  35424  73440 109728 136512 176256]\n",
      " [     1      1      1      1      1      1]]\n"
     ]
    }
   ],
   "source": [
    "X_trans = np.transpose(X)\n",
    "print(X_trans)"
   ]
  },
  {
   "cell_type": "markdown",
   "metadata": {},
   "source": [
    "<h1><center>$X^{T}\\cdot X$</center></h1>"
   ]
  },
  {
   "cell_type": "code",
   "execution_count": 16,
   "metadata": {},
   "outputs": [
    {
     "name": "stdout",
     "output_type": "stream",
     "text": [
      "[[-329245696     531360]\n",
      " [    531360          6]]\n"
     ]
    }
   ],
   "source": [
    "X_T_into_X = np.matmul(np.transpose(X),X)\n",
    "print(X_T_into_X)"
   ]
  },
  {
   "cell_type": "markdown",
   "metadata": {},
   "source": [
    "<h1><center>$\\left ( X^{T}\\cdot X \\right )^{-1}$</center></h1>"
   ]
  },
  {
   "cell_type": "code",
   "execution_count": 17,
   "metadata": {
    "colab": {
     "base_uri": "https://localhost:8080/"
    },
    "id": "ebFAR88o3UWr",
    "outputId": "922ed66f-884b-49d9-96d6-b4b6c0bcd694"
   },
   "outputs": [
    {
     "name": "stdout",
     "output_type": "stream",
     "text": [
      "[[-2.11030624e-11  1.86888721e-06]\n",
      " [ 1.86888721e-06  1.15801541e-03]]\n"
     ]
    }
   ],
   "source": [
    "X_trans_X_inverse = np.linalg.inv(X_T_into_X)\n",
    "\n",
    "print(X_trans_X_inverse)"
   ]
  },
  {
   "cell_type": "markdown",
   "metadata": {},
   "source": [
    "<h1><center>$X^{T}\\cdot Y$</center></h1>"
   ]
  },
  {
   "cell_type": "code",
   "execution_count": 18,
   "metadata": {
    "colab": {
     "base_uri": "https://localhost:8080/"
    },
    "id": "974IHfAO3UWu",
    "outputId": "d601b8e7-5d76-4aa5-abe2-4379d09ef20d"
   },
   "outputs": [
    {
     "name": "stdout",
     "output_type": "stream",
     "text": [
      "[-2084248384     1527284]\n"
     ]
    }
   ],
   "source": [
    "X_trans_into_Y = np.matmul(np.transpose(X),Y)\n",
    "\n",
    "print(X_trans_into_Y)"
   ]
  },
  {
   "cell_type": "markdown",
   "metadata": {},
   "source": [
    "<h1><center>$\\left ( X^{T}\\cdot X \\right )^{-1}X^{T}\\cdot Y$</center></h1>"
   ]
  },
  {
   "cell_type": "code",
   "execution_count": 19,
   "metadata": {
    "colab": {
     "base_uri": "https://localhost:8080/"
    },
    "id": "4Hl7fH9Y3UWv",
    "outputId": "5251786a-da38-451e-d0f5-0e9bba356e77"
   },
   "outputs": [
    {
     "name": "stdout",
     "output_type": "stream",
     "text": [
      "[    2.89830556 -2126.60673346]\n"
     ]
    }
   ],
   "source": [
    "A = np.matmul(X_trans_X_inverse,X_trans_into_Y) #w1 and w0\n",
    "print(A)"
   ]
  },
  {
   "cell_type": "code",
   "execution_count": 20,
   "metadata": {
    "colab": {
     "base_uri": "https://localhost:8080/"
    },
    "id": "-6ZDedHt3UWy",
    "outputId": "1b17e1b8-a2ea-40cb-f87f-85c83bbd43ac"
   },
   "outputs": [
    {
     "name": "stdout",
     "output_type": "stream",
     "text": [
      "-851.3522886852197\n",
      "3785.9366014104407\n",
      "2484.5974066273457\n"
     ]
    }
   ],
   "source": [
    "#Prediction for the new X.\n",
    "w1 = A [0]\n",
    "w0 = A [1]\n",
    "\n",
    "#insert values needed\n",
    "\n",
    "#g = w0 + w1 * x_new\n",
    "\n",
    "\n",
    "dist_Berlin = 440\n",
    "dist_Moscow = 2040\n",
    "dist_Kyiv = 1591\n",
    "\n",
    "g_Berlin = w0 + w1 * dist_Berlin\n",
    "g_Moscow = w0 + w1 * dist_Moscow\n",
    "g_Kyiv = w0 + w1 * dist_Kyiv\n",
    "\n",
    "print(g_Berlin)\n",
    "print(g_Moscow)\n",
    "print(g_Kyiv)"
   ]
  },
  {
   "cell_type": "code",
   "execution_count": 23,
   "metadata": {},
   "outputs": [
    {
     "name": "stdout",
     "output_type": "stream",
     "text": [
      "[-2126.6067334615263, 100542.96929325639, 210724.9533219293, 315898.66534929886, 393526.8813695002, 508717.13739947637]\n"
     ]
    }
   ],
   "source": [
    "Y_predict = []\n",
    "for i in X:\n",
    "    pred = w0 + w1 * i[0]\n",
    "    Y_predict.append(pred)\n",
    "print(Y_predict)"
   ]
  },
  {
   "cell_type": "code",
   "execution_count": 33,
   "metadata": {
    "colab": {
     "base_uri": "https://localhost:8080/",
     "height": 231
    },
    "id": "M6Y_CLZN3UW0",
    "outputId": "86e7c3ae-ab50-4ea1-ad3d-cc9f718f6efd"
   },
   "outputs": [
    {
     "data": {
      "text/plain": [
       "7944256828.723909"
      ]
     },
     "execution_count": 33,
     "metadata": {},
     "output_type": "execute_result"
    }
   ],
   "source": [
    "#Mean squared error on training data\n",
    "n=len(X)\n",
    "Error = 0\n",
    "for i in range (6):\n",
    "    E = (Y[i]-Y_predict[i])**2\n",
    "    Error = E+Error\n",
    "\n",
    "MSE = (1/n)*Error\n",
    "MSE"
   ]
  },
  {
   "cell_type": "code",
   "execution_count": 34,
   "metadata": {
    "id": "Onj1G03N3UW3"
   },
   "outputs": [],
   "source": [
    "X = [0,35424,73440,109728,136512,176256]\n",
    "Y = [87345,244555,213087,222042,326125,434130]"
   ]
  },
  {
   "cell_type": "code",
   "execution_count": 35,
   "metadata": {
    "id": "wV0ZcWth7jcy"
   },
   "outputs": [],
   "source": [
    "X_avg = np.average(X)"
   ]
  },
  {
   "cell_type": "code",
   "execution_count": 36,
   "metadata": {
    "id": "SefT5oMZ7okQ"
   },
   "outputs": [],
   "source": [
    "X_max = np.max(X)"
   ]
  },
  {
   "cell_type": "code",
   "execution_count": 37,
   "metadata": {
    "id": "kZq_y1fs7pq6"
   },
   "outputs": [],
   "source": [
    "X_min = np.min(X)"
   ]
  },
  {
   "cell_type": "code",
   "execution_count": 38,
   "metadata": {
    "id": "5mXL9zmJ74KH"
   },
   "outputs": [],
   "source": [
    "X_norm = (X-X_min)/(X_max-X_min)"
   ]
  },
  {
   "cell_type": "code",
   "execution_count": 39,
   "metadata": {
    "colab": {
     "base_uri": "https://localhost:8080/"
    },
    "id": "qf0YrpI98BBT",
    "outputId": "d6cd3cb4-3fda-43bd-b113-2b667c629470"
   },
   "outputs": [
    {
     "data": {
      "text/plain": [
       "array([0.        , 0.20098039, 0.41666667, 0.62254902, 0.7745098 ,\n",
       "       1.        ])"
      ]
     },
     "execution_count": 39,
     "metadata": {},
     "output_type": "execute_result"
    }
   ],
   "source": [
    "X_norm"
   ]
  },
  {
   "cell_type": "code",
   "execution_count": 40,
   "metadata": {
    "id": "iayB0b4e8CT3"
   },
   "outputs": [],
   "source": [
    "Y_norm = (Y-np.min(Y))/(np.max(Y)-np.min(Y))"
   ]
  },
  {
   "cell_type": "code",
   "execution_count": 41,
   "metadata": {
    "colab": {
     "base_uri": "https://localhost:8080/"
    },
    "id": "cwsnzUcK8LYo",
    "outputId": "f7c7a76e-876c-4527-f829-4adcc8b65960"
   },
   "outputs": [
    {
     "data": {
      "text/plain": [
       "array([0.        , 0.45333564, 0.36259354, 0.38841645, 0.68855343,\n",
       "       1.        ])"
      ]
     },
     "execution_count": 41,
     "metadata": {},
     "output_type": "execute_result"
    }
   ],
   "source": [
    "Y_norm"
   ]
  }
 ],
 "metadata": {
  "colab": {
   "collapsed_sections": [],
   "name": "Regression_Demo_Exam.ipynb",
   "provenance": []
  },
  "kernelspec": {
   "display_name": "Python 3 (ipykernel)",
   "language": "python",
   "name": "python3"
  },
  "language_info": {
   "codemirror_mode": {
    "name": "ipython",
    "version": 3
   },
   "file_extension": ".py",
   "mimetype": "text/x-python",
   "name": "python",
   "nbconvert_exporter": "python",
   "pygments_lexer": "ipython3",
   "version": "3.7.9"
  }
 },
 "nbformat": 4,
 "nbformat_minor": 1
}
