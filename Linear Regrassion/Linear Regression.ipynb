{
 "cells": [
  {
   "cell_type": "code",
   "execution_count": 1,
   "metadata": {
    "id": "B6ETnHVs3UWf"
   },
   "outputs": [],
   "source": [
    "import numpy as np"
   ]
  },
  {
   "cell_type": "code",
   "execution_count": 2,
   "metadata": {
    "colab": {
     "base_uri": "https://localhost:8080/"
    },
    "id": "8uvzFaMt3UWp",
    "outputId": "b924aa6c-825a-4cff-abc3-d96375f88828"
   },
   "outputs": [
    {
     "name": "stdout",
     "output_type": "stream",
     "text": [
      "[[     0      1]\n",
      " [ 35424      1]\n",
      " [ 73440      1]\n",
      " [109728      1]\n",
      " [136512      1]\n",
      " [176256      1]]\n",
      "[ 87345 244555 213087 222042 326125 434130]\n"
     ]
    }
   ],
   "source": [
    "#Define Independent and dependent variables. Where X is the independent variable and Y is a dependent variable\n",
    "X=np.array([[0,1],[35424,1], [73440,1], [109728,1], [136512,1] ,[176256,1]])\n",
    "Y=np.array([87345,244555,213087,222042,326125,434130])\n",
    "\n",
    "print(X)\n",
    "print(Y)"
   ]
  },
  {
   "cell_type": "code",
   "execution_count": 3,
   "metadata": {},
   "outputs": [
    {
     "name": "stdout",
     "output_type": "stream",
     "text": [
      "[[     0  35424  73440 109728 136512 176256]\n",
      " [     1      1      1      1      1      1]]\n"
     ]
    }
   ],
   "source": [
    "X_trans = np.transpose(X)\n",
    "print(X_trans)"
   ]
  },
  {
   "cell_type": "markdown",
   "metadata": {},
   "source": [
    "<h1><center>$X^{T}\\cdot X$</center></h1>"
   ]
  },
  {
   "cell_type": "code",
   "execution_count": 4,
   "metadata": {},
   "outputs": [
    {
     "name": "stdout",
     "output_type": "stream",
     "text": [
      "[[-329245696     531360]\n",
      " [    531360          6]]\n"
     ]
    }
   ],
   "source": [
    "X_T_into_X = np.matmul(np.transpose(X),X)\n",
    "print(X_T_into_X)"
   ]
  },
  {
   "cell_type": "markdown",
   "metadata": {},
   "source": [
    "<h1><center>$\\left ( X^{T}\\cdot X \\right )^{-1}$</center></h1>"
   ]
  },
  {
   "cell_type": "code",
   "execution_count": 5,
   "metadata": {
    "colab": {
     "base_uri": "https://localhost:8080/"
    },
    "id": "ebFAR88o3UWr",
    "outputId": "922ed66f-884b-49d9-96d6-b4b6c0bcd694"
   },
   "outputs": [
    {
     "name": "stdout",
     "output_type": "stream",
     "text": [
      "[[-2.11030624e-11  1.86888721e-06]\n",
      " [ 1.86888721e-06  1.15801541e-03]]\n"
     ]
    }
   ],
   "source": [
    "X_trans_X_inverse = np.linalg.inv(X_T_into_X)\n",
    "\n",
    "print(X_trans_X_inverse)"
   ]
  },
  {
   "cell_type": "markdown",
   "metadata": {},
   "source": [
    "<h1><center>$X^{T}\\cdot Y$</center></h1>"
   ]
  },
  {
   "cell_type": "code",
   "execution_count": 6,
   "metadata": {
    "colab": {
     "base_uri": "https://localhost:8080/"
    },
    "id": "974IHfAO3UWu",
    "outputId": "d601b8e7-5d76-4aa5-abe2-4379d09ef20d"
   },
   "outputs": [
    {
     "name": "stdout",
     "output_type": "stream",
     "text": [
      "[-2084248384     1527284]\n"
     ]
    }
   ],
   "source": [
    "X_trans_into_Y = np.matmul(np.transpose(X),Y)\n",
    "\n",
    "print(X_trans_into_Y)"
   ]
  },
  {
   "cell_type": "markdown",
   "metadata": {},
   "source": [
    "<h1><center>$\\left ( X^{T}\\cdot X \\right )^{-1}X^{T}\\cdot Y$</center></h1>"
   ]
  },
  {
   "cell_type": "code",
   "execution_count": 7,
   "metadata": {
    "colab": {
     "base_uri": "https://localhost:8080/"
    },
    "id": "4Hl7fH9Y3UWv",
    "outputId": "5251786a-da38-451e-d0f5-0e9bba356e77"
   },
   "outputs": [
    {
     "name": "stdout",
     "output_type": "stream",
     "text": [
      "[    2.89830556 -2126.60673346]\n"
     ]
    }
   ],
   "source": [
    "A = np.matmul(X_trans_X_inverse,X_trans_into_Y) #w1 and w0\n",
    "print(A)"
   ]
  },
  {
   "cell_type": "code",
   "execution_count": 8,
   "metadata": {
    "colab": {
     "base_uri": "https://localhost:8080/"
    },
    "id": "-6ZDedHt3UWy",
    "outputId": "1b17e1b8-a2ea-40cb-f87f-85c83bbd43ac"
   },
   "outputs": [
    {
     "name": "stdout",
     "output_type": "stream",
     "text": [
      "-851.3522886852197\n",
      "3785.9366014104407\n",
      "2484.5974066273457\n"
     ]
    }
   ],
   "source": [
    "#Prediction for the new X.\n",
    "w1 = A [0]\n",
    "w0 = A [1]\n",
    "\n",
    "x = 1591 #insert values needed\n",
    "\n",
    "#g = w0 + w1 * x_new\n",
    "\n",
    "\n",
    "dist_Berlin = 440\n",
    "dist_Moscow = 2040\n",
    "dist_Kyiv = 1591\n",
    "\n",
    "g_Berlin = w0 + w1 * dist_Berlin\n",
    "g_Moscow = w0 + w1 * dist_Moscow\n",
    "g_Kyiv = w0 + w1 * dist_Kyiv\n",
    "\n",
    "print(g_Berlin)\n",
    "print(g_Moscow)\n",
    "print(g_Kyiv)"
   ]
  }
 ],
 "metadata": {
  "colab": {
   "collapsed_sections": [],
   "name": "Regression_Demo_Exam.ipynb",
   "provenance": []
  },
  "kernelspec": {
   "display_name": "Python 3 (ipykernel)",
   "language": "python",
   "name": "python3"
  },
  "language_info": {
   "codemirror_mode": {
    "name": "ipython",
    "version": 3
   },
   "file_extension": ".py",
   "mimetype": "text/x-python",
   "name": "python",
   "nbconvert_exporter": "python",
   "pygments_lexer": "ipython3",
   "version": "3.7.9"
  }
 },
 "nbformat": 4,
 "nbformat_minor": 1
}
